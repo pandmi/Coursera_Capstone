{
 "cells": [
  {
   "cell_type": "markdown",
   "metadata": {},
   "source": [
    "# <font color=red> Backery shop: how to move out from Berlin and not lost yourself in Sofia, Bulgaria.  </font>"
   ]
  },
  {
   "cell_type": "markdown",
   "metadata": {},
   "source": [
    "## 1. Introduction\n",
    "### 1.1 Background <br>\n"
   ]
  },
  {
   "cell_type": "markdown",
   "metadata": {},
   "source": [
    "After 6 years living in Berlin my friend decided to move home to Bulgaria and open in Sofia backery shop with national breakfast kitchen. To meet this decision were taken different factors in consideration. \n",
    "\n",
    "Sofia is the biggest city in Bulgaria, and  the 15th largest city in the European Union [1](https://en.wikipedia.org/wiki/List_of_cities_in_the_European_Union_by_population_within_city_limits).\n",
    "\n",
    "In the recent time the city became fast developing tourist destination, since 2009 the city has been experiencing a stable growth in tourism - approximately 13% in both 2016 and 2017, that is expected to continue in the coming years, though at a lower rate. [2]\n",
    "\n",
    "Sofia Airport launched 42 new routes between 2015-2018, including new direct flights to such destinations as Baku, Nice, Malaga, etc. A new line to Beijing is planned for 2020. [2]\n",
    "\n",
    "Most of the visitors (87% in 2016) comming to Sofia for leasure purpose.  \n",
    "\n",
    "Sofia is among the top 3 cities in Europe with the highest growth of international visitors. The average increase for the period between 2009 and 2016 was 9.4% according to the Mastercard Global Destination Cities Index report published in September 2017. [2]\n",
    "\n",
    "The Daily Backpacker Index for Sofia in 2018 is 53.05 BGN or around 27.11 Euro and includes a night stay at a centrally-located hostel with good reviews, transportation, and food and entertainment costs. [2]\n",
    "\n",
    "\n",
    "Therefore, it is advantageous for my friend to accurately predict in which areas of the city may occure high demand on the caffe breakfast service and in which areas the target group may be found. \n",
    "\n",
    "### 1.2 Problem <br>\n",
    "The analyse of availible data source can help us to deremine the places where the potential consumer may be founded, and especially:\n",
    "\n",
    "1. Tourists who wants to start a day with affordable and on good qulity national breakfast <br>\n",
    "\n",
    "2. Freelancer who loves to have their own caffe as work place <br>\n",
    "\n",
    "\n",
    "### 1.3 Objective <br>\n",
    "\n",
    "The aim of this report is to analyse different locations in Sofia and group them into simillar clusters, which can help us to:\n",
    "\n",
    "1. Find ideal locations for caffe close to main touristic accomodations with low compteions from other players<br>\n",
    "\n",
    "2. Find ideal locations for advertising of new caffe <br>\n",
    "\n",
    "\n",
    "### 1.4  Target Audience\n",
    "\n",
    "The provided information would be interesting for everyone who wants to open own restourant or caffe business, or other tourism relevant services, which would benefit of knowing the main touristic allocations and saturation of those places with relevant services. "
   ]
  },
  {
   "cell_type": "markdown",
   "metadata": {},
   "source": [
    "[1] https://en.wikipedia.org/wiki/List_of_cities_in_the_European_Union_by_population_within_city_limits  <br>\n",
    "[2] https://investsofia.com/wp-content/uploads/2018/09/Sofia-Tourism-and-Air-Transport-Market-September-2018.pdf    <br>\n",
    "[3] Forsquare API"
   ]
  },
  {
   "cell_type": "markdown",
   "metadata": {},
   "source": [
    "### 2. Data Sources <br>\n"
   ]
  },
  {
   "cell_type": "markdown",
   "metadata": {},
   "source": [
    "Taking into consideration main goal of the project we can use following datas: <br>\n",
    "    \n",
    "1. Sofia Neighborhood Data: The following Wikipedia page was scraped to pull out the necessary information. [3]  <br>\n",
    "The information obtained i.e. the table of postal codes was transformed into a pandas data frame for further analysis.   \n",
    "\n",
    "2. Coordinate data for each Neighborhood in Sofia. I used Nominatim to get the center coordinates of the each Neighborhood and coordinates for each required adress[4]  <br>\n",
    "\n",
    "3. Forsquare API to get the information of restaurants, caffe and hotels venues of given neighborhoods and borough of Sofia [5]\n",
    "\n"
   ]
  }
 ],
 "metadata": {
  "kernelspec": {
   "display_name": "Python 3",
   "language": "python",
   "name": "python3"
  },
  "language_info": {
   "codemirror_mode": {
    "name": "ipython",
    "version": 3
   },
   "file_extension": ".py",
   "mimetype": "text/x-python",
   "name": "python",
   "nbconvert_exporter": "python",
   "pygments_lexer": "ipython3",
   "version": "3.7.1"
  }
 },
 "nbformat": 4,
 "nbformat_minor": 2
}
